{
  "nbformat": 4,
  "nbformat_minor": 0,
  "metadata": {
    "colab": {
      "provenance": []
    },
    "kernelspec": {
      "name": "python3",
      "display_name": "Python 3"
    },
    "language_info": {
      "name": "python"
    }
  },
  "cells": [
    {
      "cell_type": "code",
      "execution_count": 3,
      "metadata": {
        "colab": {
          "base_uri": "https://localhost:8080/"
        },
        "id": "WHOul55k1TpQ",
        "outputId": "7220141c-9395-4c56-dcf1-d23c1f24a32a"
      },
      "outputs": [
        {
          "output_type": "stream",
          "name": "stdout",
          "text": [
            "addition of two number\n",
            "12\n",
            "12\n",
            "24\n",
            "printing n natural number\n",
            "n\n",
            "0\n",
            "1\n",
            "2\n",
            "3\n",
            "4\n",
            "5\n",
            "6\n",
            "7\n",
            "8\n",
            "9\n"
          ]
        }
      ],
      "source": [
        "# if _Name_ ==\"_main_\";\n",
        "\n",
        "print (\"addition of two number\")\n",
        "a=int(input())\n",
        "b=int(input())1\n",
        "sum=a+b\n",
        "print(sum)\n",
        "\n",
        "print(\"printing n natural number\")\n",
        "n=input()\n",
        "for i in range(0,10):\n",
        "  print(i)\n"
      ]
    }
  ]
}